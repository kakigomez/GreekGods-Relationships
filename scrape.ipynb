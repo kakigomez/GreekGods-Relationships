{
 "cells": [
  {
   "cell_type": "code",
   "execution_count": 35,
   "metadata": {},
   "outputs": [],
   "source": [
    "import pandas as pd\n",
    "import time \n",
    "from selenium import webdriver\n",
    "from selenium.webdriver.common.by import By\n",
    "from webdriver_manager.chrome import ChromeDriverManager"
   ]
  },
  {
   "attachments": {},
   "cell_type": "markdown",
   "metadata": {},
   "source": [
    "## Objective\n",
    "The questions we're trying to explore:\n",
    "\n",
    "1. Which are the most important figures in Greek Mythology?\n",
    "2. How their importance evolves over time?\n",
    "3. Main communities in this network and how they relate to each other?"
   ]
  },
  {
   "attachments": {},
   "cell_type": "markdown",
   "metadata": {},
   "source": [
    "Create Driver"
   ]
  },
  {
   "cell_type": "code",
   "execution_count": 36,
   "metadata": {},
   "outputs": [
    {
     "name": "stderr",
     "output_type": "stream",
     "text": [
      "C:\\Users\\kagom\\AppData\\Local\\Temp\\ipykernel_28408\\1503906442.py:1: DeprecationWarning: executable_path has been deprecated, please pass in a Service object\n",
      "  driver = webdriver.Chrome(ChromeDriverManager().install())\n"
     ]
    }
   ],
   "source": [
    "driver = webdriver.Chrome(ChromeDriverManager().install())"
   ]
  },
  {
   "cell_type": "code",
   "execution_count": 37,
   "metadata": {},
   "outputs": [],
   "source": [
    "page_url = 'https://mythopedia.com/guides/greek-gods'\n",
    "driver.get(page_url)\n"
   ]
  },
  {
   "cell_type": "code",
   "execution_count": 38,
   "metadata": {},
   "outputs": [],
   "source": [
    "#Initializes a list of the main Greek Olympians\n",
    "god_collections = driver.find_elements(By.CLASS_NAME, \"Collection_title__z9IiP\") \n"
   ]
  },
  {
   "cell_type": "code",
   "execution_count": 39,
   "metadata": {},
   "outputs": [
    {
     "data": {
      "text/plain": [
       "'Greek Olympians'"
      ]
     },
     "execution_count": 39,
     "metadata": {},
     "output_type": "execute_result"
    }
   ],
   "source": [
    "god_collections[0].text"
   ]
  },
  {
   "cell_type": "code",
   "execution_count": 42,
   "metadata": {},
   "outputs": [
    {
     "name": "stdout",
     "output_type": "stream",
     "text": [
      "[<selenium.webdriver.remote.webelement.WebElement (session=\"8adde4343e1535d88da07dc84934e64e\", element=\"8c4eef50-9b7c-4140-b409-339318e2a876\")>, <selenium.webdriver.remote.webelement.WebElement (session=\"8adde4343e1535d88da07dc84934e64e\", element=\"47a44a18-8ccd-4781-aed2-fbe0a4a2eaea\")>, <selenium.webdriver.remote.webelement.WebElement (session=\"8adde4343e1535d88da07dc84934e64e\", element=\"9d93849e-ddcf-4174-85c0-c08d671ab2a0\")>, <selenium.webdriver.remote.webelement.WebElement (session=\"8adde4343e1535d88da07dc84934e64e\", element=\"9d5d5954-a4a0-4944-91ff-7d062f71e48f\")>]\n"
     ]
    }
   ],
   "source": [
    "god_collections[0].get_attribute('href')\n"
   ]
  },
  {
   "cell_type": "code",
   "execution_count": 43,
   "metadata": {},
   "outputs": [],
   "source": [
    "god_names = driver.find_elements(By.CLASS_NAME, \"Collection_title__3rYCA\") \n"
   ]
  },
  {
   "cell_type": "code",
   "execution_count": 44,
   "metadata": {},
   "outputs": [
    {
     "data": {
      "text/plain": [
       "'Zeus'"
      ]
     },
     "execution_count": 44,
     "metadata": {},
     "output_type": "execute_result"
    }
   ],
   "source": [
    "god_names[0].text"
   ]
  },
  {
   "attachments": {},
   "cell_type": "markdown",
   "metadata": {},
   "source": [
    "## Full Code"
   ]
  },
  {
   "cell_type": "code",
   "execution_count": 55,
   "metadata": {},
   "outputs": [
    {
     "name": "stderr",
     "output_type": "stream",
     "text": [
      "C:\\Users\\kagom\\AppData\\Local\\Temp\\ipykernel_28408\\3402563802.py:2: DeprecationWarning: executable_path has been deprecated, please pass in a Service object\n",
      "  driver = webdriver.Chrome(ChromeDriverManager().install())\n"
     ]
    }
   ],
   "source": [
    "#Create driver\n",
    "driver = webdriver.Chrome(ChromeDriverManager().install())\n",
    "\n",
    "#Go to the list of the Greek God Collections page\n",
    "page_url = 'https://mythopedia.com/guides/greek-gods'\n",
    "driver.get(page_url)\n",
    "\n",
    "#Let the elements fully render for the drive to access\n",
    "time.sleep(3) \n",
    "\n",
    "#Find all the Greek God Collections on the page\n",
    "god_collections = driver.find_elements(By.CLASS_NAME, \"Collection_title__z9IiP\") \n",
    "\n",
    "gc_list = [] #Initialize an empty list to fill with god collections \"god collections list\"\n",
    "for collection in god_collections:\n",
    "    gc_url = collection.find_element(By.TAG_NAME, \"a\").get_attribute(\"href\") #Note: Have to find element by tag_name \"a\" because href is not on the class line\n",
    "    gc_name = collection.text\n",
    "    gc_list.append({\"god_collection\":gc_name, \"url\":gc_url})\n",
    "\n",
    "\n"
   ]
  },
  {
   "cell_type": "code",
   "execution_count": 57,
   "metadata": {},
   "outputs": [],
   "source": [
    "gn_list = [] #Initialize an empty list to fill with the names of the Greek gods \"god names list\"\n",
    "\n",
    "for gc in gc_list:\n",
    "    #go to each god collection page\n",
    "    driver.get(gc['url'])\n",
    "\n",
    "    god_names = driver.find_elements(By.CLASS_NAME, \"Collection_title__3rYCA\") \n",
    "    for name in god_names:\n",
    "        gn_list.append({'collection': gc['god_collection'], 'god': name.text})\n"
   ]
  },
  {
   "cell_type": "code",
   "execution_count": 62,
   "metadata": {},
   "outputs": [
    {
     "data": {
      "text/html": [
       "<div>\n",
       "<style scoped>\n",
       "    .dataframe tbody tr th:only-of-type {\n",
       "        vertical-align: middle;\n",
       "    }\n",
       "\n",
       "    .dataframe tbody tr th {\n",
       "        vertical-align: top;\n",
       "    }\n",
       "\n",
       "    .dataframe thead th {\n",
       "        text-align: right;\n",
       "    }\n",
       "</style>\n",
       "<table border=\"1\" class=\"dataframe\">\n",
       "  <thead>\n",
       "    <tr style=\"text-align: right;\">\n",
       "      <th></th>\n",
       "      <th>collection</th>\n",
       "      <th>god</th>\n",
       "    </tr>\n",
       "  </thead>\n",
       "  <tbody>\n",
       "    <tr>\n",
       "      <th>0</th>\n",
       "      <td>Greek Olympians</td>\n",
       "      <td>Zeus</td>\n",
       "    </tr>\n",
       "    <tr>\n",
       "      <th>1</th>\n",
       "      <td>Greek Olympians</td>\n",
       "      <td>Athena</td>\n",
       "    </tr>\n",
       "    <tr>\n",
       "      <th>2</th>\n",
       "      <td>Greek Olympians</td>\n",
       "      <td>Poseidon</td>\n",
       "    </tr>\n",
       "    <tr>\n",
       "      <th>3</th>\n",
       "      <td>Greek Olympians</td>\n",
       "      <td>Aphrodite</td>\n",
       "    </tr>\n",
       "    <tr>\n",
       "      <th>4</th>\n",
       "      <td>Greek Olympians</td>\n",
       "      <td>Hermes</td>\n",
       "    </tr>\n",
       "  </tbody>\n",
       "</table>\n",
       "</div>"
      ],
      "text/plain": [
       "        collection        god\n",
       "0  Greek Olympians       Zeus\n",
       "1  Greek Olympians     Athena\n",
       "2  Greek Olympians   Poseidon\n",
       "3  Greek Olympians  Aphrodite\n",
       "4  Greek Olympians     Hermes"
      ]
     },
     "execution_count": 62,
     "metadata": {},
     "output_type": "execute_result"
    }
   ],
   "source": [
    "gods_df = pd.DataFrame(gn_list)\n",
    "gods_df.head()"
   ]
  },
  {
   "cell_type": "code",
   "execution_count": 63,
   "metadata": {},
   "outputs": [],
   "source": [
    "import matplotlib.pyplot as plt"
   ]
  },
  {
   "cell_type": "code",
   "execution_count": 64,
   "metadata": {},
   "outputs": [
    {
     "data": {
      "image/png": "[encoded data removed]",
      "text/plain": [
       "<Figure size 640x480 with 1 Axes>"
      ]
     },
     "metadata": {},
     "output_type": "display_data"
    }
   ],
   "source": [
    "gods_df['collection'].value_counts().plot(kind='bar')\n",
    "plt.show()"
   ]
  },
  {
   "attachments": {},
   "cell_type": "markdown",
   "metadata": {},
   "source": [
    "## Continued Analysis\n",
    "\n",
    "We'll be installing spacy (NLP in Python) and networkx and pyvis.\n",
    "\n",
    "Please see \"extracting_relationships.ipynb\""
   ]
  }
 ],
 "metadata": {
  "kernelspec": {
   "display_name": "Python 3",
   "language": "python",
   "name": "python3"
  },
  "language_info": {
   "codemirror_mode": {
    "name": "ipython",
    "version": 3
   },
   "file_extension": ".py",
   "mimetype": "text/x-python",
   "name": "python",
   "nbconvert_exporter": "python",
   "pygments_lexer": "ipython3",
   "version": "3.9.13"
  },
  "orig_nbformat": 4,
  "vscode": {
   "interpreter": {
    "hash": "b4a410a37008441fbb3377283153b8fbc8d390a35224e9fb1ba178c24071d305"
   }
  }
 },
 "nbformat": 4,
 "nbformat_minor": 2
}
